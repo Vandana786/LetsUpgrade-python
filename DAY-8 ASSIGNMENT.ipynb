{
 "cells": [
  {
   "cell_type": "markdown",
   "metadata": {},
   "source": [
    "# DAY-8 ASSIGNMENT"
   ]
  },
  {
   "cell_type": "markdown",
   "metadata": {},
   "source": [
    "# ASSIGNMENT-1"
   ]
  },
  {
   "cell_type": "markdown",
   "metadata": {},
   "source": [
    "#Write a decorator function for your taking input for you any kind of function you want to build, For example - You make a fibonacci series function,in which your input range is been defined by the decorator program input."
   ]
  },
  {
   "cell_type": "code",
   "execution_count": 1,
   "metadata": {},
   "outputs": [],
   "source": [
    "def fun1(cal):\n",
    "    def wrap():\n",
    "        print(\"Hyy guys let's do some calculations \")\n",
    "        a=int(input(\"enter the numb = \"))\n",
    "        b=int(input('enter the numb = '))\n",
    "        cal(a,b)   \n",
    "    wrap()"
   ]
  },
  {
   "cell_type": "code",
   "execution_count": 2,
   "metadata": {},
   "outputs": [
    {
     "name": "stdout",
     "output_type": "stream",
     "text": [
      "Hyy guys let's do some calculations \n",
      "enter the numb = 30\n",
      "enter the numb = 20\n",
      "addition =  50\n"
     ]
    }
   ],
   "source": [
    "@fun1\n",
    "def add(a,b):\n",
    "    add=a+b\n",
    "    print(\"addition = \",add)"
   ]
  },
  {
   "cell_type": "code",
   "execution_count": 3,
   "metadata": {},
   "outputs": [
    {
     "name": "stdout",
     "output_type": "stream",
     "text": [
      "Hyy guys let's do some calculations \n",
      "enter the numb = 5\n",
      "enter the numb = 10\n",
      "multiplication =  50\n"
     ]
    }
   ],
   "source": [
    "@fun1\n",
    "def mul(a,b):\n",
    "    mul=a*b\n",
    "    print(\"multiplication = \",mul)"
   ]
  },
  {
   "cell_type": "code",
   "execution_count": 5,
   "metadata": {},
   "outputs": [
    {
     "name": "stdout",
     "output_type": "stream",
     "text": [
      "Hyy guys let's do some calculations \n",
      "enter the numb = 2\n",
      "enter the numb = 30\n",
      "Even numbers for the range 2 to 30 : \n",
      "2 4 6 8 10 12 14 16 18 20 22 24 26 28 30 "
     ]
    }
   ],
   "source": [
    "@fun1\n",
    "def Even(a,b):    \n",
    "    print(f\"Even numbers for the range {a} to {b} : \")\n",
    "    for n in range(a, b + 1):       \n",
    "        if n % 2 == 0:            \n",
    "            print(n,end=\" \")    #end - to print in a horizontal line"
   ]
  },
  {
   "cell_type": "markdown",
   "metadata": {},
   "source": [
    "# ASSIGNMENT -2 "
   ]
  },
  {
   "cell_type": "markdown",
   "metadata": {},
   "source": [
    "#For this challenge you need to develop a Python program to open a file in read only mode and try writing something to it and handle the subsequent errors using Exception Handling."
   ]
  },
  {
   "cell_type": "code",
   "execution_count": 11,
   "metadata": {},
   "outputs": [],
   "source": [
    "#directly writing a file without opening"
   ]
  },
  {
   "cell_type": "code",
   "execution_count": 12,
   "metadata": {},
   "outputs": [
    {
     "name": "stdout",
     "output_type": "stream",
     "text": [
      "Writing handling.py\n"
     ]
    }
   ],
   "source": [
    "%%writefile handling.py\n",
    "print(\"Hyy this is the assignment of exception handling\")"
   ]
  },
  {
   "cell_type": "code",
   "execution_count": 14,
   "metadata": {},
   "outputs": [
    {
     "name": "stdout",
     "output_type": "stream",
     "text": [
      "not writable\n"
     ]
    }
   ],
   "source": [
    "try:\n",
    "    file=open(\"handling.py\",\"r\")\n",
    "    file.write(\"writing in read mode to see errors\")\n",
    "    file.close()\n",
    "except Exception as e:\n",
    "    print(e)"
   ]
  },
  {
   "cell_type": "code",
   "execution_count": null,
   "metadata": {},
   "outputs": [],
   "source": []
  }
 ],
 "metadata": {
  "kernelspec": {
   "display_name": "Python 3",
   "language": "python",
   "name": "python3"
  },
  "language_info": {
   "codemirror_mode": {
    "name": "ipython",
    "version": 3
   },
   "file_extension": ".py",
   "mimetype": "text/x-python",
   "name": "python",
   "nbconvert_exporter": "python",
   "pygments_lexer": "ipython3",
   "version": "3.8.3"
  }
 },
 "nbformat": 4,
 "nbformat_minor": 4
}
