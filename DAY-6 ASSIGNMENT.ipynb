{
 "cells": [
  {
   "cell_type": "markdown",
   "metadata": {},
   "source": [
    "# DAY-6 ASSIGNMENT"
   ]
  },
  {
   "cell_type": "markdown",
   "metadata": {},
   "source": [
    "# ASSIGNMENT - 1"
   ]
  },
  {
   "cell_type": "code",
   "execution_count": 1,
   "metadata": {},
   "outputs": [],
   "source": [
    "# CREATE A BANK ACCOUNT CLASS "
   ]
  },
  {
   "cell_type": "code",
   "execution_count": 4,
   "metadata": {},
   "outputs": [
    {
     "name": "stdout",
     "output_type": "stream",
     "text": [
      "welcome to our bank!!!\n",
      "enter the name : Vandana\n",
      "Hey Vandana  Welcome\n",
      "balance in the account : 10000\n",
      "enter the deposit balance : 10000\n",
      "Available balance in the account :  20000\n",
      "enter the withdraw amount : 10000\n",
      "total balance in the account :  10000\n",
      "the withdrawn amount :  10000\n",
      "willing to withdraw again :  yes\n",
      "yes\n",
      "amount : 5000\n",
      "5000\n"
     ]
    }
   ],
   "source": [
    "class bankaccount():\n",
    "    def __init__(self):\n",
    "        print(\"welcome to our bank!!!\")\n",
    "        self.name =input(\"enter the name : \")\n",
    "        print(\"Hey\", (self.name) ,\" Welcome\") \n",
    "        self.balance=eval(input(\"balance in the account : \"))\n",
    "    def deposit(self):\n",
    "        self.deposit=eval(input(\"enter the deposit balance : \"))\n",
    "        self.pbalance=self.balance+self.deposit\n",
    "        print(\"Available balance in the account : \",self.pbalance)\n",
    "    def withdraw(self):\n",
    "        self.withdraw=eval(input(\"enter the withdraw amount : \"))\n",
    "        self.tbal=self.balance-self.withdraw+self.deposit\n",
    "        print(\"total balance in the account : \",self.tbal)\n",
    "        if self.withdraw<=self.balance:\n",
    "            print(\"the withdrawn amount : \",self.withdraw)\n",
    "            print(input(\"willing to withdraw again :  \"))\n",
    "            print(eval(input(\"amount : \")))\n",
    "        else:\n",
    "            print(\"insufficient balance  \")\n",
    "            \n",
    "o=bankaccount()\n",
    "o.deposit()\n",
    "o.withdraw()"
   ]
  },
  {
   "cell_type": "markdown",
   "metadata": {},
   "source": [
    "# ASSIGNMENT - 2"
   ]
  },
  {
   "cell_type": "code",
   "execution_count": 5,
   "metadata": {},
   "outputs": [],
   "source": [
    "# CLASS OF CONE"
   ]
  },
  {
   "cell_type": "code",
   "execution_count": 7,
   "metadata": {},
   "outputs": [
    {
     "name": "stdout",
     "output_type": "stream",
     "text": [
      "Volume Of Cone : 167.5516081914556\n",
      "Surface Area Of Cone : 140.8828696505485\n"
     ]
    }
   ],
   "source": [
    "import math \n",
    "pi = math.pi \n",
    "  \n",
    "class Cone():\n",
    "    def __init__(self, r, h):\n",
    "        self.r = r\n",
    "        self.h = h\n",
    "    def volume(self): \n",
    "        return (1 / 3) * pi * self.r**2  * self.h\n",
    "    def surfacearea(self): \n",
    "        base = (pi * self.r **2)\n",
    "        side = (pi * self.r * math.sqrt((self.r**2) + (self.h**2)))\n",
    "        return (pi * self.r **2) + (pi * self.r * math.sqrt((self.r**2) + (self.h**2)))\n",
    "volume_v = Cone(4,10)\n",
    "print(f\"Volume Of Cone : {volume_v.volume()}\")\n",
    "\n",
    "surface_a = Cone(4,6)\n",
    "print(f\"Surface Area Of Cone : {surface_a.surfacearea()}\")"
   ]
  },
  {
   "cell_type": "code",
   "execution_count": null,
   "metadata": {},
   "outputs": [],
   "source": []
  }
 ],
 "metadata": {
  "kernelspec": {
   "display_name": "Python 3",
   "language": "python",
   "name": "python3"
  },
  "language_info": {
   "codemirror_mode": {
    "name": "ipython",
    "version": 3
   },
   "file_extension": ".py",
   "mimetype": "text/x-python",
   "name": "python",
   "nbconvert_exporter": "python",
   "pygments_lexer": "ipython3",
   "version": "3.8.3"
  }
 },
 "nbformat": 4,
 "nbformat_minor": 4
}
